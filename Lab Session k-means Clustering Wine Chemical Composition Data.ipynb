{
 "cells": [
  {
   "cell_type": "markdown",
   "id": "dependent-clearing",
   "metadata": {},
   "source": [
    "# Import necessary libraries"
   ]
  },
  {
   "cell_type": "code",
   "execution_count": null,
   "id": "determined-permission",
   "metadata": {},
   "outputs": [],
   "source": [
    "import pandas as pd\n",
    "import numpy as np\n",
    "from sklearn.cluster import KMeans\n",
    "import matplotlib.pyplot as plt\n",
    "from mpl_toolkits.mplot3d import Axes3D\n",
    "from IPython.display import display"
   ]
  },
  {
   "cell_type": "markdown",
   "id": "strategic-thomson",
   "metadata": {},
   "source": [
    "# Define plotting colors"
   ]
  },
  {
   "cell_type": "code",
   "execution_count": null,
   "id": "numerical-impact",
   "metadata": {},
   "outputs": [],
   "source": [
    "color_list = ['b', 'r', 'g', 'magenta', 'cyan', 'blueviolet',\\\n",
    "'orange', 'yellow', 'palegreen', 'grey', 'lime', 'peru', \\\n",
    "'teal', 'hotpink', 'cornflowerblue', 'lightcoral', 'darkgray',\\\n",
    "'whitesmoke', 'rosybrown', 'firebrick', 'salmon', 'chocolate',\\\n",
    "'bisque', 'tan', 'gold', 'olive', 'honeydew','thistle', 'k']"
   ]
  },
  {
   "cell_type": "markdown",
   "id": "incorporated-keeping",
   "metadata": {},
   "source": [
    " # Function to read .csv file data into a Pandas data frame"
   ]
  },
  {
   "cell_type": "code",
   "execution_count": null,
   "id": "inclusive-offset",
   "metadata": {},
   "outputs": [],
   "source": [
    "def df_read(datafile):\n",
    "    kmeans_df = pd.read_csv(datafile, delimiter = ',')\n",
    "    return kmeans_df"
   ]
  },
  {
   "cell_type": "markdown",
   "id": "dependent-bhutan",
   "metadata": {},
   "source": [
    "# Function to apply z-score normalisation to a Pandas dataframe"
   ]
  },
  {
   "cell_type": "code",
   "execution_count": null,
   "id": "lovely-petroleum",
   "metadata": {},
   "outputs": [],
   "source": [
    "def z_score(df):\n",
    "    df_std = df.copy()\n",
    "    for column in df_std.columns:\n",
    "        df_std[column] = (df_std[column] - df_std[column].mean()) / df_std[column].std()\n",
    "    return df_std"
   ]
  },
  {
   "cell_type": "markdown",
   "id": "beneficial-russian",
   "metadata": {},
   "source": [
    "# Hard k-means in 3 dimensions: Wine chemical composition data"
   ]
  },
  {
   "cell_type": "markdown",
   "id": "nutritional-backup",
   "metadata": {},
   "source": [
    "# Read the wine data into a Pandas dataframe"
   ]
  },
  {
   "cell_type": "code",
   "execution_count": null,
   "id": "gorgeous-foundation",
   "metadata": {},
   "outputs": [],
   "source": [
    "df_wine = df_read('ul_wine.data')"
   ]
  },
  {
   "cell_type": "markdown",
   "id": "announced-compact",
   "metadata": {},
   "source": [
    "# Display df_wine contents in a table"
   ]
  },
  {
   "cell_type": "code",
   "execution_count": null,
   "id": "steady-canyon",
   "metadata": {},
   "outputs": [],
   "source": [
    "display(df_wine)"
   ]
  },
  {
   "cell_type": "markdown",
   "id": "acknowledged-costume",
   "metadata": {},
   "source": [
    "# Apply z-score normalisation to df_wine"
   ]
  },
  {
   "cell_type": "code",
   "execution_count": null,
   "id": "south-alabama",
   "metadata": {
    "scrolled": true
   },
   "outputs": [],
   "source": [
    "df_wine_standardized = z_score(df_wine)\n",
    "display(df_wine_standardized)"
   ]
  },
  {
   "cell_type": "markdown",
   "id": "defined-anchor",
   "metadata": {},
   "source": [
    "\n",
    "# ✔ !STUDENTS TO ALTER! Choose data parameters for x, y, z components"
   ]
  },
  {
   "cell_type": "code",
   "execution_count": null,
   "id": "hairy-roman",
   "metadata": {},
   "outputs": [],
   "source": [
    "x_param = 'Alcohol'                    \n",
    "y_param = 'Malic_acid'\n",
    "z_param = 'Alcalinity_of_ash'"
   ]
  },
  {
   "cell_type": "markdown",
   "id": "pharmaceutical-victoria",
   "metadata": {},
   "source": [
    "# ✔ !STUDENTS TO ALTER! Select number of clusters"
   ]
  },
  {
   "cell_type": "code",
   "execution_count": null,
   "id": "unable-cable",
   "metadata": {},
   "outputs": [],
   "source": [
    "K_clust = 2"
   ]
  },
  {
   "cell_type": "markdown",
   "id": "continuous-scene",
   "metadata": {},
   "source": [
    "# Run k-means using students parameters and display metrics"
   ]
  },
  {
   "cell_type": "code",
   "execution_count": null,
   "id": "flexible-poster",
   "metadata": {},
   "outputs": [],
   "source": [
    "x = df_wine_standardized.loc[:, x_param]\n",
    "y = df_wine_standardized.loc[:, y_param]      \n",
    "z = df_wine_standardized.loc[:, z_param]              \n",
    "\n",
    "array_wine_standardised = np.empty([len(df_wine_standardized), 3])\n",
    "\n",
    "for i in range(0,len(x)):\n",
    "    array_wine_standardised[i,0] = x[i]\n",
    "    array_wine_standardised[i,1] = y[i]\n",
    "    array_wine_standardised[i,2] = z[i]\n",
    "\n",
    "kmeans = KMeans(n_clusters=K_clust, random_state=0).fit(array_wine_standardised)\n",
    "k_tracker = kmeans.labels_\n",
    "\n",
    "unique, counts = np.unique(k_tracker, return_counts=True)\n",
    "count_dict = dict(zip(unique+1, counts))\n",
    "ssd = kmeans.inertia_\n",
    "print('******************************************************************************')\n",
    "print('Number of points in each cluster:')\n",
    "print(count_dict)\n",
    "print('******************************************************************************')\n",
    "print('CLUSTER CENTRES:\\n',kmeans.cluster_centers_)\n",
    "print('******************************************************************************')\n",
    "print('k TRACKER ARRAY:\\n', k_tracker)\n",
    "print('******************************************************************************')\n",
    "print('SSD:\\n', ssd)\n",
    "print('******************************************************************************')"
   ]
  },
  {
   "cell_type": "markdown",
   "id": "activated-buffer",
   "metadata": {},
   "source": [
    "# Plot 3D chart showing clusters"
   ]
  },
  {
   "cell_type": "code",
   "execution_count": null,
   "id": "super-measurement",
   "metadata": {},
   "outputs": [],
   "source": [
    "x_k = kmeans.cluster_centers_[:,0]\n",
    "y_k = kmeans.cluster_centers_[:,1]                                             \n",
    "z_k = kmeans.cluster_centers_[:,2]\n",
    "\n",
    "fig = plt.figure()\n",
    "ax = fig.add_subplot(111, projection='3d')\n",
    "ax.scatter(x_k, y_k, z_k, marker='*', color='k')\n",
    "for i in range(0,len(x)):\n",
    "    for k in range(0,(11)):\n",
    "        if k_tracker[i] == k:\n",
    "            ax.scatter(x[i], y[i], z[i],c= color_list[k])\n",
    "plt.savefig(str(k)+'_clusters_wine_plot.png')\n",
    "plt.show()"
   ]
  }
 ],
 "metadata": {
  "kernelspec": {
   "display_name": "Python 3",
   "language": "python",
   "name": "python3"
  },
  "language_info": {
   "codemirror_mode": {
    "name": "ipython",
    "version": 3
   },
   "file_extension": ".py",
   "mimetype": "text/x-python",
   "name": "python",
   "nbconvert_exporter": "python",
   "pygments_lexer": "ipython3",
   "version": "3.7.3"
  }
 },
 "nbformat": 4,
 "nbformat_minor": 5
}
